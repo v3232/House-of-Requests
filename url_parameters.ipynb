{
 "cells": [
  {
   "cell_type": "markdown",
   "metadata": {},
   "source": [
    "# House of Requests"
   ]
  },
  {
   "cell_type": "markdown",
   "metadata": {},
   "source": [
    "Use the `Deck of Cards` API to play a game of BlackJack with a partner. Parameterize the `Deck of Cards` API `request urls` in order to create the deck of cards, as well as draw cards for the game."
   ]
  },
  {
   "cell_type": "code",
   "execution_count": 1,
   "metadata": {},
   "outputs": [],
   "source": [
    "import requests\n",
    "import json"
   ]
  },
  {
   "cell_type": "markdown",
   "metadata": {},
   "source": [
    "## Prep for the Game"
   ]
  },
  {
   "cell_type": "code",
   "execution_count": 2,
   "metadata": {},
   "outputs": [
    {
     "data": {
      "text/plain": [
       "{'success': True,\n",
       " 'deck_id': 'szn41u578cjv',\n",
       " 'remaining': 312,\n",
       " 'shuffled': True}"
      ]
     },
     "execution_count": 2,
     "metadata": {},
     "output_type": "execute_result"
    }
   ],
   "source": [
    "# Declare request url to create deck id\n",
    "create_deck_url = \"https://deckofcardsapi.com/api/deck/new/shuffle/?deck_count=6\"\n",
    "\n",
    "# Execute create deck url\n",
    "deck_data = requests.get(create_deck_url).json()\n",
    "deck_data"
   ]
  },
  {
   "cell_type": "markdown",
   "metadata": {},
   "source": [
    "### Parse JSON and extract `deck_id`"
   ]
  },
  {
   "cell_type": "code",
   "execution_count": 3,
   "metadata": {},
   "outputs": [
    {
     "name": "stdout",
     "output_type": "stream",
     "text": [
      "szn41u578cjv\n"
     ]
    }
   ],
   "source": [
    "# Select deck_id\n",
    "deck_id = deck_data['deck_id']\n",
    "\n",
    "print(deck_id)"
   ]
  },
  {
   "cell_type": "markdown",
   "metadata": {},
   "source": [
    "### Declare request urls to draw cards and shuffle deck"
   ]
  },
  {
   "cell_type": "code",
   "execution_count": 4,
   "metadata": {},
   "outputs": [
    {
     "name": "stdout",
     "output_type": "stream",
     "text": [
      "https://deckofcardsapi.com/api/deck/szn41u578cjv/draw/?count=1\n",
      "https://deckofcardsapi.com/api/deck/szn41u578cjv/shuffle/\n"
     ]
    }
   ],
   "source": [
    "# Declare draw_cards_url and shuffle_deck_url\n",
    "# Use string interpolation to incorporate the deck_id\n",
    "draw_cards_url = f\"https://deckofcardsapi.com/api/deck/{deck_id}/draw/?count=1\"\n",
    "shuffle_deck_url = f\"https://deckofcardsapi.com/api/deck/{deck_id}/shuffle/\"\n",
    "print(draw_cards_url)\n",
    "print(shuffle_deck_url)"
   ]
  },
  {
   "cell_type": "markdown",
   "metadata": {},
   "source": [
    "## Player 1 Turn"
   ]
  },
  {
   "cell_type": "markdown",
   "metadata": {},
   "source": [
    "### Draw two cards"
   ]
  },
  {
   "cell_type": "code",
   "execution_count": 5,
   "metadata": {},
   "outputs": [],
   "source": [
    "# Draw two cards\n",
    "p1_card_1 = requests.get(draw_cards_url).json()\n",
    "p1_card_2 = requests.get(draw_cards_url).json()"
   ]
  },
  {
   "cell_type": "code",
   "execution_count": 6,
   "metadata": {
    "tags": []
   },
   "outputs": [
    {
     "data": {
      "text/plain": [
       "{'success': True,\n",
       " 'deck_id': 'szn41u578cjv',\n",
       " 'cards': [{'code': 'JC',\n",
       "   'image': 'https://deckofcardsapi.com/static/img/JC.png',\n",
       "   'images': {'svg': 'https://deckofcardsapi.com/static/img/JC.svg',\n",
       "    'png': 'https://deckofcardsapi.com/static/img/JC.png'},\n",
       "   'value': 'JACK',\n",
       "   'suit': 'CLUBS'}],\n",
       " 'remaining': 311}"
      ]
     },
     "execution_count": 6,
     "metadata": {},
     "output_type": "execute_result"
    }
   ],
   "source": [
    "p1_card_1"
   ]
  },
  {
   "cell_type": "code",
   "execution_count": 7,
   "metadata": {
    "tags": []
   },
   "outputs": [
    {
     "data": {
      "text/plain": [
       "{'success': True,\n",
       " 'deck_id': 'szn41u578cjv',\n",
       " 'cards': [{'code': '8D',\n",
       "   'image': 'https://deckofcardsapi.com/static/img/8D.png',\n",
       "   'images': {'svg': 'https://deckofcardsapi.com/static/img/8D.svg',\n",
       "    'png': 'https://deckofcardsapi.com/static/img/8D.png'},\n",
       "   'value': '8',\n",
       "   'suit': 'DIAMONDS'}],\n",
       " 'remaining': 310}"
      ]
     },
     "execution_count": 7,
     "metadata": {},
     "output_type": "execute_result"
    }
   ],
   "source": [
    "p1_card_2"
   ]
  },
  {
   "cell_type": "markdown",
   "metadata": {},
   "source": [
    "### Parse and extract `value` and `suit` elements from JSON output, for each card"
   ]
  },
  {
   "cell_type": "code",
   "execution_count": 8,
   "metadata": {},
   "outputs": [
    {
     "name": "stdout",
     "output_type": "stream",
     "text": [
      "JACK of CLUBS\n",
      "8 of DIAMONDS\n"
     ]
    }
   ],
   "source": [
    "# Select returned card's value and suit (i.e. 3 of clubs)\n",
    "p1_card_1_value = p1_card_1['cards'][0]['value']\n",
    "p1_card_1_suit = p1_card_1['cards'][0]['suit']\n",
    "\n",
    "p1_card_2_value = p1_card_2['cards'][0]['value']\n",
    "p1_card_2_suit = p1_card_2['cards'][0]['suit']\n",
    "\n",
    "player_1_card_1 = f'{p1_card_1_value}' + ' of ' + f'{p1_card_1_suit}'\n",
    "player_1_card_2 = f'{p1_card_2_value}' + ' of ' + f'{p1_card_2_suit}' \n",
    "\n",
    "# Print player cards\n",
    "print(player_1_card_1)\n",
    "print(player_1_card_2)"
   ]
  },
  {
   "cell_type": "markdown",
   "metadata": {},
   "source": [
    "### Decide whether to draw another card or skip to next player turn"
   ]
  },
  {
   "cell_type": "code",
   "execution_count": 9,
   "metadata": {},
   "outputs": [
    {
     "name": "stdout",
     "output_type": "stream",
     "text": [
      "JACK of DIAMONDS\n"
     ]
    }
   ],
   "source": [
    "# Draw a third card\n",
    "p1_card_3 = requests.get(draw_cards_url).json()\n",
    "\n",
    "# Select returned card's value and suit (i.e. 3 of clubs)\n",
    "p1_card_3_value = p1_card_3['cards'][0]['value']\n",
    "p1_card_3_suit = p1_card_3['cards'][0]['suit']\n",
    "\n",
    "player_1_card_3 = f'{p1_card_3_value}' + ' of ' + f'{p1_card_3_suit}'\n",
    "\n",
    "# Print player card\n",
    "print(player_1_card_3)"
   ]
  },
  {
   "cell_type": "markdown",
   "metadata": {},
   "source": [
    "### Manually calculate player 1 points and enter below"
   ]
  },
  {
   "cell_type": "code",
   "execution_count": 10,
   "metadata": {
    "tags": []
   },
   "outputs": [],
   "source": [
    "# Create dictionary of the points corresponding to the cards in the deck\n",
    "\n",
    "points = {\n",
    "    '2' : 2,\n",
    "    '3' : 3,\n",
    "    '4' : 4,\n",
    "    '5' : 5,\n",
    "    '6' : 6,\n",
    "    '7' : 7,\n",
    "    '8' : 8,\n",
    "    '9' : 9,\n",
    "    '10' : 10,\n",
    "    'JACK' : 10,\n",
    "    'QUEEN': 10,\n",
    "    'KING' : 10,\n",
    "    'ACE' : 10\n",
    "}"
   ]
  },
  {
   "cell_type": "code",
   "execution_count": 11,
   "metadata": {
    "tags": []
   },
   "outputs": [],
   "source": [
    "# Create a function to calculate the total points\n",
    "def total(c1, c2, c3):\n",
    "    \n",
    "    # Calculate the total points of the cards drawn\n",
    "    total = points[c1] + points[c2] + points[c3]\n",
    "    \n",
    "    # Have the value 'ACE' set to 1 or 10\n",
    "    # Subtract 10 and add 1 to for equivalent value if 'ACE' is drawn and the total is greater than 21\n",
    "    if 'ACE' in [c1, c2, c3] and  total > 21:\n",
    "        total_points = total - 9\n",
    "        return total_points\n",
    "    \n",
    "    else:\n",
    "        return total\n",
    "    "
   ]
  },
  {
   "cell_type": "markdown",
   "metadata": {},
   "source": [
    "Player 1 points ="
   ]
  },
  {
   "cell_type": "code",
   "execution_count": 12,
   "metadata": {
    "tags": []
   },
   "outputs": [
    {
     "data": {
      "text/plain": [
       "28"
      ]
     },
     "execution_count": 12,
     "metadata": {},
     "output_type": "execute_result"
    }
   ],
   "source": [
    "p1_total = total(p1_card_1_value, p1_card_2_value, p1_card_3_value)\n",
    "p1_total"
   ]
  },
  {
   "cell_type": "markdown",
   "metadata": {},
   "source": [
    "## Player 2 / Dealer Turn"
   ]
  },
  {
   "cell_type": "code",
   "execution_count": 13,
   "metadata": {},
   "outputs": [
    {
     "name": "stdout",
     "output_type": "stream",
     "text": [
      "2 of DIAMONDS\n",
      "7 of DIAMONDS\n",
      "10 of DIAMONDS\n"
     ]
    }
   ],
   "source": [
    "# Draw two cards for player 1\n",
    "p2_card_1 = requests.get(draw_cards_url).json()\n",
    "p2_card_2 = requests.get(draw_cards_url).json()\n",
    "\n",
    "# Select card value and suit \n",
    "p2_card_1_value = p2_card_1['cards'][0]['value']\n",
    "p2_card_1_suit = p2_card_1['cards'][0]['suit']\n",
    "\n",
    "p2_card_2_value = p2_card_2['cards'][0]['value']\n",
    "p2_card_2_suit = p2_card_2['cards'][0]['suit']\n",
    "\n",
    "player_2_card_1 = f'{p2_card_1_value}' + ' of ' + f'{p2_card_1_suit}'\n",
    "player_2_card_2 = f'{p2_card_2_value}' + ' of ' + f'{p2_card_2_suit}' \n",
    "\n",
    "\n",
    "# Print player cards\n",
    "print(player_2_card_1)\n",
    "print(player_2_card_2)\n",
    "\n",
    "# Draw third card for player 2\n",
    "p2_card_3 = requests.get(draw_cards_url).json()\n",
    "p2_card_3_value = p2_card_3['cards'][0]['value']\n",
    "p2_card_3_suit = p2_card_3['cards'][0]['suit']\n",
    "\n",
    "player_2_card_3 = f'{p2_card_3_value}' + ' of ' + f'{p2_card_3_suit}'\n",
    "\n",
    "# Print player card\n",
    "print(player_2_card_3)"
   ]
  },
  {
   "cell_type": "markdown",
   "metadata": {},
   "source": [
    "### Manually calculate player 2 points and enter below"
   ]
  },
  {
   "cell_type": "markdown",
   "metadata": {},
   "source": [
    "Player 2 points ="
   ]
  },
  {
   "cell_type": "code",
   "execution_count": 14,
   "metadata": {
    "tags": []
   },
   "outputs": [
    {
     "data": {
      "text/plain": [
       "19"
      ]
     },
     "execution_count": 14,
     "metadata": {},
     "output_type": "execute_result"
    }
   ],
   "source": [
    "p2_total = total(p2_card_1_value, p2_card_2_value, p2_card_3_value)\n",
    "p2_total"
   ]
  },
  {
   "cell_type": "markdown",
   "metadata": {},
   "source": [
    "### Find the winner"
   ]
  },
  {
   "cell_type": "code",
   "execution_count": 15,
   "metadata": {
    "tags": []
   },
   "outputs": [],
   "source": [
    "# create dictionary of scores\n",
    "scores = {}\n",
    "\n",
    "scores['Player_1'] = p1_total\n",
    "scores['Player_2'] = p2_total\n",
    "\n",
    "def evaluate(score):\n",
    "    if score > 21:\n",
    "        return False\n",
    "    \n",
    "    else:\n",
    "        return score\n",
    "\n",
    "\n",
    "def winner(s1, s2):\n",
    "    if s1 == False and s2 == False:\n",
    "        print('No winner')\n",
    "    \n",
    "    elif s1 == False:\n",
    "        print('Player_2 wins')\n",
    "    \n",
    "    elif s2 == False:\n",
    "        print('Player_1 wins')\n",
    "    \n",
    "    else:\n",
    "        winner = max(scores, key = scores.get)\n",
    "        print(f'{winner} wins')\n",
    "    \n"
   ]
  },
  {
   "cell_type": "code",
   "execution_count": 16,
   "metadata": {
    "tags": []
   },
   "outputs": [
    {
     "name": "stdout",
     "output_type": "stream",
     "text": [
      "Player_1 - 28\n",
      "Player_2 - 19\n",
      "Player_2 wins\n"
     ]
    }
   ],
   "source": [
    "p1_score = evaluate(p1_total)\n",
    "p2_score = evaluate(p2_total)\n",
    "\n",
    "print(f'Player_1 - {p1_total}')\n",
    "print(f'Player_2 - {p2_total}')\n",
    "winner(p1_score, p2_score)"
   ]
  },
  {
   "cell_type": "code",
   "execution_count": null,
   "metadata": {},
   "outputs": [],
   "source": []
  }
 ],
 "metadata": {
  "kernelspec": {
   "display_name": "Python 3 (ipykernel)",
   "language": "python",
   "name": "python3"
  },
  "language_info": {
   "codemirror_mode": {
    "name": "ipython",
    "version": 3
   },
   "file_extension": ".py",
   "mimetype": "text/x-python",
   "name": "python",
   "nbconvert_exporter": "python",
   "pygments_lexer": "ipython3",
   "version": "3.10.13"
  }
 },
 "nbformat": 4,
 "nbformat_minor": 4
}
